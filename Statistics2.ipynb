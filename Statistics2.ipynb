{
 "cells": [
  {
   "cell_type": "markdown",
   "id": "cd2cfffd-1b47-482b-ad98-d0b3cf4ff7eb",
   "metadata": {},
   "source": [
    "### Q1. What are the three measures of central tendency?"
   ]
  },
  {
   "cell_type": "markdown",
   "id": "79023124-6734-4963-a6cd-489840f469f4",
   "metadata": {},
   "source": [
    "### The three measures of central tendency are: Mean, median, mode"
   ]
  },
  {
   "cell_type": "code",
   "execution_count": null,
   "id": "7d9a1be0-3a7a-4d5e-bc4d-6ff400fc1b0c",
   "metadata": {},
   "outputs": [],
   "source": []
  },
  {
   "cell_type": "markdown",
   "id": "0f3cde6b-7d54-4401-86e1-cf477b540d1a",
   "metadata": {},
   "source": [
    "###  Q2. What is the difference between the mean, median, and mode? How are they used to measure the\n",
    "### central tendency of a dataset?"
   ]
  },
  {
   "cell_type": "code",
   "execution_count": 1,
   "id": "d0dc4bf4-6f3f-4cae-84dd-895d265cb472",
   "metadata": {},
   "outputs": [],
   "source": [
    "import numpy as np\n",
    "age  = [12,21,23,45,65,43,56,45,32,67,54,34,200]"
   ]
  },
  {
   "cell_type": "code",
   "execution_count": 14,
   "id": "51dfe74c-806e-4f0c-95bf-085372608c4e",
   "metadata": {},
   "outputs": [
    {
     "data": {
      "text/plain": [
       "53.61538461538461"
      ]
     },
     "execution_count": 14,
     "metadata": {},
     "output_type": "execute_result"
    }
   ],
   "source": [
    "np.mean(age)"
   ]
  },
  {
   "cell_type": "code",
   "execution_count": 15,
   "id": "f444d966-591d-4b54-86dd-964f98af2502",
   "metadata": {},
   "outputs": [
    {
     "data": {
      "text/plain": [
       "45.0"
      ]
     },
     "execution_count": 15,
     "metadata": {},
     "output_type": "execute_result"
    }
   ],
   "source": [
    "np.median(age)"
   ]
  },
  {
   "cell_type": "code",
   "execution_count": 17,
   "id": "aa4e2017-ee6f-4510-a2b2-56808bf837e4",
   "metadata": {},
   "outputs": [],
   "source": [
    "from scipy import stats"
   ]
  },
  {
   "cell_type": "code",
   "execution_count": 18,
   "id": "559a6b93-8945-47ed-8026-cf01577908eb",
   "metadata": {},
   "outputs": [
    {
     "name": "stderr",
     "output_type": "stream",
     "text": [
      "/tmp/ipykernel_1445/2474845003.py:1: FutureWarning: Unlike other reduction functions (e.g. `skew`, `kurtosis`), the default behavior of `mode` typically preserves the axis it acts along. In SciPy 1.11.0, this behavior will change: the default value of `keepdims` will become False, the `axis` over which the statistic is taken will be eliminated, and the value None will no longer be accepted. Set `keepdims` to True or False to avoid this warning.\n",
      "  stats.mode(age)\n"
     ]
    },
    {
     "data": {
      "text/plain": [
       "ModeResult(mode=array([45]), count=array([2]))"
      ]
     },
     "execution_count": 18,
     "metadata": {},
     "output_type": "execute_result"
    }
   ],
   "source": [
    "stats.mode(age)"
   ]
  },
  {
   "cell_type": "code",
   "execution_count": null,
   "id": "88efdaf8-7405-48c9-848c-b1677326eb96",
   "metadata": {},
   "outputs": [],
   "source": []
  },
  {
   "cell_type": "markdown",
   "id": "2a5ddd0a-a3ba-400b-bbe8-5a9e4da84701",
   "metadata": {},
   "source": [
    "### Q3. Measure the three measures of central tendency for the given height data:\n",
    "### [178,177,176,177,178.2,178,175,179,180,175,178.9,176.2,177,172.5,178,176.5]"
   ]
  },
  {
   "cell_type": "code",
   "execution_count": 5,
   "id": "46492e07-f343-4ce3-a423-a225c7896688",
   "metadata": {},
   "outputs": [],
   "source": [
    "list_ = [178,177,176,177,178.2,178,175,179,180,175,178.9,176.2,177,172.5,178,176.5]"
   ]
  },
  {
   "cell_type": "code",
   "execution_count": 6,
   "id": "89872d03-0ebd-4d7e-84ae-54706647188c",
   "metadata": {},
   "outputs": [
    {
     "data": {
      "text/plain": [
       "177.01875"
      ]
     },
     "execution_count": 6,
     "metadata": {},
     "output_type": "execute_result"
    }
   ],
   "source": [
    "np.mean(list_)"
   ]
  },
  {
   "cell_type": "code",
   "execution_count": 7,
   "id": "9e5e96cf-6fe5-4d18-8b85-765d653bc636",
   "metadata": {},
   "outputs": [
    {
     "data": {
      "text/plain": [
       "177.0"
      ]
     },
     "execution_count": 7,
     "metadata": {},
     "output_type": "execute_result"
    }
   ],
   "source": [
    "np.median(list_)"
   ]
  },
  {
   "cell_type": "code",
   "execution_count": 9,
   "id": "8752f896-6f8a-419d-835c-ac60507ae31b",
   "metadata": {},
   "outputs": [],
   "source": [
    "from scipy import stats"
   ]
  },
  {
   "cell_type": "code",
   "execution_count": 10,
   "id": "117490ca-cc81-4a44-a68a-8033b4742904",
   "metadata": {},
   "outputs": [
    {
     "name": "stderr",
     "output_type": "stream",
     "text": [
      "/tmp/ipykernel_159/3762621106.py:1: FutureWarning: Unlike other reduction functions (e.g. `skew`, `kurtosis`), the default behavior of `mode` typically preserves the axis it acts along. In SciPy 1.11.0, this behavior will change: the default value of `keepdims` will become False, the `axis` over which the statistic is taken will be eliminated, and the value None will no longer be accepted. Set `keepdims` to True or False to avoid this warning.\n",
      "  stats.mode(list_)\n"
     ]
    },
    {
     "data": {
      "text/plain": [
       "ModeResult(mode=array([177.]), count=array([3]))"
      ]
     },
     "execution_count": 10,
     "metadata": {},
     "output_type": "execute_result"
    }
   ],
   "source": [
    "stats.mode(list_)"
   ]
  },
  {
   "cell_type": "markdown",
   "id": "f5f2fd5c-91d9-4262-9774-1bb2de41b5e4",
   "metadata": {},
   "source": [
    "## Q4. Find the standard deviation for the given data:\n",
    "\n",
    "[178,177,176,177,178.2,178,175,179,180,175,178.9,176.2,177,172.5,178,176.5]\n"
   ]
  },
  {
   "cell_type": "code",
   "execution_count": 11,
   "id": "b0e5b458-ef94-4c25-a6b8-aef997b5734b",
   "metadata": {},
   "outputs": [],
   "source": [
    "new_list =[178,177,176,177,178.2,178,175,179,180,175,178.9,176.2,177,172.5,178,176.5]"
   ]
  },
  {
   "cell_type": "code",
   "execution_count": 12,
   "id": "2a9f2380-e981-47f6-8e6d-19b1423e3999",
   "metadata": {},
   "outputs": [
    {
     "data": {
      "text/plain": [
       "1.7885814036548633"
      ]
     },
     "execution_count": 12,
     "metadata": {},
     "output_type": "execute_result"
    }
   ],
   "source": [
    "np.std(new_list)"
   ]
  },
  {
   "cell_type": "markdown",
   "id": "587d3963-0749-4e62-96c9-61383736fc04",
   "metadata": {},
   "source": [
    "## Q6. What is a Venn diagram?\n"
   ]
  },
  {
   "cell_type": "markdown",
   "id": "899e791c-2d8a-4d55-84d9-0d30aca8e45a",
   "metadata": {},
   "source": [
    "## A Venn diagram is a visual representation of the relationships between two or more sets of data"
   ]
  },
  {
   "cell_type": "code",
   "execution_count": null,
   "id": "da65e857-8603-4b5c-8e90-2a7800fd5a6c",
   "metadata": {},
   "outputs": [],
   "source": []
  },
  {
   "cell_type": "markdown",
   "id": "d84655b7-1a30-4239-9b53-160f42311a91",
   "metadata": {},
   "source": [
    "## Q7. For the two given sets A = (2,3,4,5,6,7) & B = (0,2,6,8,10). Find:\n",
    "## (i) A B\n",
    "\n",
    "## (ii) A B :\n"
   ]
  },
  {
   "cell_type": "markdown",
   "id": "3c9b87ca-56db-47f4-9eab-ed68672a8d44",
   "metadata": {},
   "source": [
    "\n",
    "# (i) A B = {2,6}\n",
    "# (ii) A B = {0,2,3,4,5,6,7,8,10}"
   ]
  },
  {
   "cell_type": "code",
   "execution_count": null,
   "id": "499b3225-db59-46f1-a0f5-a3c8ca8b6df8",
   "metadata": {},
   "outputs": [],
   "source": []
  },
  {
   "cell_type": "markdown",
   "id": "9c9c1486-1c83-4238-8020-f08927d04d13",
   "metadata": {},
   "source": [
    "## Q8. What do you understand about skewness in data?\n"
   ]
  },
  {
   "cell_type": "markdown",
   "id": "d869ceda-c069-4ea6-b07c-2203e953cc84",
   "metadata": {},
   "source": [
    "## Skewness is a measurement of the distortion of symmetrical distribution or asymmetry in a data set.\n",
    "## there are two tpyes of skewness 1.positive skewness, 2.Negative skewness"
   ]
  },
  {
   "cell_type": "code",
   "execution_count": null,
   "id": "83b26d42-aef2-4998-b4ef-b2a9dcbd7a38",
   "metadata": {},
   "outputs": [],
   "source": []
  },
  {
   "cell_type": "markdown",
   "id": "96a54704-187d-40cb-84e0-6acbcf304868",
   "metadata": {},
   "source": [
    "## Q10. Explain the difference between covariance and correlation. How are these measures used in\n",
    "## statistical analysis?\n"
   ]
  },
  {
   "cell_type": "markdown",
   "id": "14d5b91d-2f07-4024-94b0-73bfe01fa7d0",
   "metadata": {},
   "source": [
    "### Difference between covariance and correlation: \n",
    "### Covariance = Relationship between X and Y +ve or -ve value\n",
    "### Correlation = Covriance does not have a specific limit value\n",
    "\n",
    "## covariance and correlation can be used in statistical analysis:  Hypothesis testing, Regression analysis, Data mining, "
   ]
  },
  {
   "cell_type": "code",
   "execution_count": null,
   "id": "6b457d74-b0ad-4127-85d2-4a6a45434388",
   "metadata": {},
   "outputs": [],
   "source": []
  },
  {
   "cell_type": "markdown",
   "id": "ac9e92e7-0c2d-4681-98af-0d7cf105ee16",
   "metadata": {},
   "source": [
    "## Q11. What is the formula for calculating the sample mean? Provide an example calculation for a\n",
    "## dataset.\n"
   ]
  },
  {
   "cell_type": "markdown",
   "id": "b26fd794-5cba-4f3c-97b3-5e83706d1d6d",
   "metadata": {},
   "source": [
    "## sample mean = (∑xi)/n\n",
    "## x̄ is the sample mean\n",
    "## xi is the ith data point\n",
    "## n is the number of data points"
   ]
  },
  {
   "cell_type": "code",
   "execution_count": 13,
   "id": "2ab8e456-97c8-4762-9b69-841cc6c3fb7d",
   "metadata": {},
   "outputs": [
    {
     "data": {
      "text/plain": [
       "43.61538461538461"
      ]
     },
     "execution_count": 13,
     "metadata": {},
     "output_type": "execute_result"
    }
   ],
   "source": [
    "age  = [12,21,23,45,65,43,56,45,32,67,54,34,70]\n",
    "np.mean(age)"
   ]
  },
  {
   "cell_type": "code",
   "execution_count": null,
   "id": "bd6d4535-d968-4b0b-84e1-81cb7cd9c244",
   "metadata": {},
   "outputs": [],
   "source": []
  },
  {
   "cell_type": "markdown",
   "id": "5e8bacf9-122c-422e-86d9-cc6cd6af5320",
   "metadata": {},
   "source": [
    "## Q12. For a normal distribution data what is the relationship between its measure of central tendency?"
   ]
  },
  {
   "cell_type": "markdown",
   "id": "0401cf01-192e-4405-9242-79e6500a5c79",
   "metadata": {},
   "source": [
    "## The three measures of central tendency for a normal distribution are the mean, the median, and the mode. In a normal distribution, these three measures are equal     mean = median = mode"
   ]
  },
  {
   "cell_type": "code",
   "execution_count": null,
   "id": "7df22de5-7a77-4103-b918-4b58731ada8d",
   "metadata": {},
   "outputs": [],
   "source": []
  }
 ],
 "metadata": {
  "kernelspec": {
   "display_name": "Python 3 (ipykernel)",
   "language": "python",
   "name": "python3"
  },
  "language_info": {
   "codemirror_mode": {
    "name": "ipython",
    "version": 3
   },
   "file_extension": ".py",
   "mimetype": "text/x-python",
   "name": "python",
   "nbconvert_exporter": "python",
   "pygments_lexer": "ipython3",
   "version": "3.10.8"
  }
 },
 "nbformat": 4,
 "nbformat_minor": 5
}
